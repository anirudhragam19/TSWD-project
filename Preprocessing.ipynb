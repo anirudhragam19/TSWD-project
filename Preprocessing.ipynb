{
  "nbformat": 4,
  "nbformat_minor": 0,
  "metadata": {
    "colab": {
      "name": "Untitled9.ipynb",
      "provenance": []
    },
    "kernelspec": {
      "name": "python3",
      "display_name": "Python 3"
    }
  },
  "cells": [
    {
      "cell_type": "code",
      "metadata": {
        "colab": {
          "base_uri": "https://localhost:8080/"
        },
        "id": "Nvn9eYVR3iA9",
        "outputId": "2340a820-b185-49c8-eacd-4b01fcde56ee"
      },
      "source": [
        "import pandas as pd\n",
        "\n",
        "\n",
        "df = pd.read_csv('globalterrorismdb_0718dist.csv',encoding='latin1',engine='python')\n",
        "\n",
        "\n",
        "# Filtering the dataset for terrorist related activities from 1990 onwards\n",
        "\n",
        "df_new = df[df['iyear']>=1990]\n",
        "df['iyear']= df['iyear'].map(str)\n",
        "df_new = df_new[df_new['gname'] != 'Unknown']\n",
        "print(df_new.head())\n",
        "print(len(df_new))\n",
        "\n",
        "df_new.to_csv('cleaned_terrorist_dataset.csv',index=False)\n",
        "\n"
      ],
      "execution_count": null,
      "outputs": [
        {
          "output_type": "stream",
          "text": [
            "            eventid  iyear  imonth  iday  ... INT_IDEO  INT_MISC INT_ANY  related\n",
            "41078  199001010004   1990       1     1  ...        1         1       1      NaN\n",
            "41079  199001010005   1990       1     1  ...        1         1       1      NaN\n",
            "41082  199001020001   1990       1     2  ...        0         0       0      NaN\n",
            "41083  199001020002   1990       1     2  ...        0         0       0      NaN\n",
            "41084  199001020003   1990       1     2  ...        0         0       0      NaN\n",
            "\n",
            "[5 rows x 135 columns]\n",
            "70089\n"
          ],
          "name": "stdout"
        }
      ]
    },
    {
      "cell_type": "code",
      "metadata": {
        "id": "AvvL7MGQ4Xpj"
      },
      "source": [
        ""
      ],
      "execution_count": null,
      "outputs": []
    }
  ]
}